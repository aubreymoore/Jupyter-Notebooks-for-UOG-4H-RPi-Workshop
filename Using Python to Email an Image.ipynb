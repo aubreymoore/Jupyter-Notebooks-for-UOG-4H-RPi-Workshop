{
 "cells": [
  {
   "cell_type": "markdown",
   "metadata": {},
   "source": [
    "# Using Python to Email an Image\n",
    "\n",
    "Inspired by:\n",
    "\n",
    "Ravishankar Velladurai (October 9, 2018) [How To Send A Captured Image Through Email Using Raspberry Pi, Pi Camera, And Python](https://www.c-sharpcorner.com/article/how-to-send-the-captured-an-image-through-the-mail-using-raspberry-pi-and-python/)\n",
    "\n",
    "To protect my email addresses and Gmail password, these are imported from a simple Python file, **send_mail_config.py** which contains the following code:\n",
    "\n",
    "    MY_GMAIL_ADDRESS = '<username>@gmail.com'\n",
    "    MY_GMAIL_PASSWORD = '<password>'\n",
    "    RECIPIENTS_EMAIL_ADDRESS = '<recipients_email_address>'\n",
    "    \n",
    "Of course, you must change text between **<** and **>**.\n",
    "\n",
    "The following cell runs the code in **send_email_config** wirhin this notebook.\n",
    "In a regular Python script, I think you can just import the file as if it were a module:\n",
    "\n",
    "    import send_email_config"
   ]
  },
  {
   "cell_type": "code",
   "execution_count": 1,
   "metadata": {},
   "outputs": [],
   "source": [
    "%run 'send_email_config'"
   ]
  },
  {
   "cell_type": "code",
   "execution_count": 2,
   "metadata": {},
   "outputs": [],
   "source": [
    "import smtplib,ssl  \n",
    "from time import sleep  \n",
    "from email.mime.multipart import MIMEMultipart  \n",
    "from email.mime.base import MIMEBase  \n",
    "from email.mime.text import MIMEText  \n",
    "from email.utils import formatdate  \n",
    "from email import encoders  "
   ]
  },
  {
   "cell_type": "code",
   "execution_count": 3,
   "metadata": {},
   "outputs": [
    {
     "name": "stdout",
     "output_type": "stream",
     "text": [
      "1Mcolors.png\t\t\t      README.md\r\n",
      "CountingColors.ipynb\t\t      send_email_config.py\r\n",
      "Displaying Images Using OpenCV.ipynb  Using Python to Email an Image.ipynb\r\n",
      "__pycache__\r\n"
     ]
    }
   ],
   "source": [
    "!ls"
   ]
  },
  {
   "cell_type": "code",
   "execution_count": 4,
   "metadata": {},
   "outputs": [],
   "source": [
    "def send_email(file_name):  \n",
    "    msg = MIMEMultipart()  \n",
    "    msg['Subject'] = 'motion detected'  \n",
    "    msg['From'] = MY_GMAIL_ADDRESS  \n",
    "    msg['To'] = RECIPIENTS_EMAIL_ADDRESS  \n",
    "    msg.preamble = \"test \"   \n",
    "    #msg.attach(MIMEText(text))  \n",
    "\n",
    "    part = MIMEBase('application', \"octet-stream\")  \n",
    "    part.set_payload(open(file_name, \"rb\").read())  \n",
    "    encoders.encode_base64(part)  \n",
    "    part.add_header('Content-Disposition', 'attachment; filename=\"{}\"'.format(file_name))\n",
    "    msg.attach(part)  \n",
    "\n",
    "    s = smtplib.SMTP('smtp.gmail.com', 587)\n",
    "    s.ehlo()  \n",
    "    s.starttls()  \n",
    "    s.ehlo()  \n",
    "    s.login(user = MY_GMAIL_ADDRESS, password = MY_GMAIL_PASSWORD)\n",
    "    #s.send_message(msg)  \n",
    "    s.sendmail(MY_GMAIL_ADDRESS, RECIPIENTS_EMAIL_ADDRESS, msg.as_string())  \n",
    "    s.quit() \n"
   ]
  },
  {
   "cell_type": "code",
   "execution_count": 5,
   "metadata": {},
   "outputs": [],
   "source": [
    "send_email(\"1Mcolors.png\")"
   ]
  }
 ],
 "metadata": {
  "kernelspec": {
   "display_name": "Python 3",
   "language": "python",
   "name": "python3"
  },
  "language_info": {
   "codemirror_mode": {
    "name": "ipython",
    "version": 3
   },
   "file_extension": ".py",
   "mimetype": "text/x-python",
   "name": "python",
   "nbconvert_exporter": "python",
   "pygments_lexer": "ipython3",
   "version": "3.5.2"
  }
 },
 "nbformat": 4,
 "nbformat_minor": 2
}
