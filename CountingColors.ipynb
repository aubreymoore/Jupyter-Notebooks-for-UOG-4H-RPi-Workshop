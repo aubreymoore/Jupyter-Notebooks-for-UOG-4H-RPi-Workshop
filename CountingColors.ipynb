{
 "cells": [
  {
   "cell_type": "markdown",
   "metadata": {},
   "source": [
    "# Counting Colors\n",
    "\n",
    "According to Wikipedia, the 1000 x 1000 pixel image at https://upload.wikimedia.org/wikipedia/commons/d/d6/1Mcolors.png\n",
    "contains 1 million different colors. Let's test that."
   ]
  },
  {
   "cell_type": "code",
   "execution_count": 1,
   "metadata": {},
   "outputs": [],
   "source": [
    "import numpy as np\n",
    "import cv2\n",
    "import os"
   ]
  },
  {
   "cell_type": "code",
   "execution_count": 2,
   "metadata": {},
   "outputs": [],
   "source": [
    "fname = '1Mcolors.png'"
   ]
  },
  {
   "cell_type": "code",
   "execution_count": 3,
   "metadata": {},
   "outputs": [],
   "source": [
    "# Import the image if this has not already been done. \n",
    "if not os.path.isfile(fname): \n",
    "    import requests\n",
    "    r = requests.get('https://upload.wikimedia.org/wikipedia/commons/d/d6/1Mcolors.png')\n",
    "    open(fname, 'wb').write(r.content)"
   ]
  },
  {
   "cell_type": "code",
   "execution_count": 4,
   "metadata": {},
   "outputs": [
    {
     "data": {
      "text/plain": [
       "(1000, 1000, 3)"
      ]
     },
     "execution_count": 4,
     "metadata": {},
     "output_type": "execute_result"
    }
   ],
   "source": [
    "img = cv2.imread(fname)\n",
    "img.shape"
   ]
  },
  {
   "cell_type": "code",
   "execution_count": 5,
   "metadata": {},
   "outputs": [
    {
     "name": "stdout",
     "output_type": "stream",
     "text": [
      "1Mcolors.png contains pixels with 1,000,000 different colors.\n",
      "15,777,216 of the 16,777,216 available colours were not used in this image.\n"
     ]
    }
   ],
   "source": [
    "# Create a 3d array with one element for each of the 16M possible colors\n",
    "m = np.zeros((256,256,256),dtype=int)\n",
    "\n",
    "# Count the number of pixels containing each color\n",
    "for r in range(img.shape[0]):\n",
    "    for c in range(img.shape[1]):\n",
    "        color = img[r,c]\n",
    "        m[tuple(color)] += 1    \n",
    "ncolors_used = np.sum(m>0)\n",
    "ncolors_unused = np.sum(m==0)\n",
    "print('{} contains pixels with {:,} different colors.'.format(fname, ncolors_used))\n",
    "print('{:,} of the {:,} available colours were not used in this image.'.format(ncolors_unused, 256**3))"
   ]
  },
  {
   "cell_type": "code",
   "execution_count": null,
   "metadata": {},
   "outputs": [],
   "source": []
  }
 ],
 "metadata": {
  "kernelspec": {
   "display_name": "Python 2",
   "language": "python",
   "name": "python2"
  },
  "language_info": {
   "codemirror_mode": {
    "name": "ipython",
    "version": 3
   },
   "file_extension": ".py",
   "mimetype": "text/x-python",
   "name": "python",
   "nbconvert_exporter": "python",
   "pygments_lexer": "ipython3",
   "version": "3.5.2"
  }
 },
 "nbformat": 4,
 "nbformat_minor": 2
}
